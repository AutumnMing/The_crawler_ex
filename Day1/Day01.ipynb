{
 "cells": [
  {
   "cell_type": "code",
   "execution_count": 1,
   "metadata": {},
   "outputs": [],
   "source": [
    "# 初识requests\n",
    "import requests\n",
    "from lxml import etree"
   ]
  },
  {
   "cell_type": "markdown",
   "metadata": {},
   "source": [
    "#### get 方法, 以及请求后的常见输出"
   ]
  },
  {
   "cell_type": "code",
   "execution_count": 3,
   "metadata": {},
   "outputs": [
    {
     "name": "stdout",
     "output_type": "stream",
     "text": [
      "http://123.meibp.com/tag/%E6%AF%8F%E6%97%A5%E7%83%AD%E7%82%B9%E5%85%B3%E9%94%AE%E8%AF%8D.html\n",
      "ISO-8859-1\n",
      "403\n"
     ]
    }
   ],
   "source": [
    "url = 'http://123.meibp.com/tag/每日热点关键词.html'\n",
    "r = requests.get(url=url)\n",
    "print(r.url)  # url\n",
    "print(r.encoding)  # 编码情况\n",
    "print(r.status_code)  # 响应状态码"
   ]
  },
  {
   "cell_type": "markdown",
   "metadata": {},
   "source": [
    "#### 403问题，加个请求头试试"
   ]
  },
  {
   "cell_type": "code",
   "execution_count": 7,
   "metadata": {},
   "outputs": [
    {
     "name": "stdout",
     "output_type": "stream",
     "text": [
      "http://123.meibp.com/tag/%E6%AF%8F%E6%97%A5%E7%83%AD%E7%82%B9%E5%85%B3%E9%94%AE%E8%AF%8D.html\n",
      "UTF-8\n",
      "200\n"
     ]
    }
   ],
   "source": [
    "url = 'http://123.meibp.com/tag/每日热点关键词.html'\n",
    "headers = {\n",
    "    'User-Agent': 'Mozilla/5.0 (Windows NT 10.0; Win64; x64) AppleWebKit/537.36 (KHTML, like Gecko) Chrome/93.0.4577.63 Safari/537.36',\n",
    "}\n",
    "\n",
    "r = requests.get(url=url, headers=headers)\n",
    "print(r.url)  # url\n",
    "print(r.encoding)  # 编码情况\n",
    "print(r.status_code)  # 响应状态码"
   ]
  },
  {
   "cell_type": "markdown",
   "metadata": {},
   "source": [
    "#### 设置编码后，再输出，即可正常显示"
   ]
  },
  {
   "cell_type": "code",
   "execution_count": 5,
   "metadata": {},
   "outputs": [
    {
     "name": "stdout",
     "output_type": "stream",
     "text": [
      "<class 'str'>\n",
      "<class 'lxml.etree._Element'>\n"
     ]
    }
   ],
   "source": [
    "# 通过etree格式化\n",
    "html = etree.HTML(r.text)  # 修正，格式化，注意此刻的数据类型\n",
    "print(type(r.text))  #\n",
    "print(type(html))"
   ]
  },
  {
   "cell_type": "markdown",
   "metadata": {},
   "source": [
    "#### 注意了，使用Xpath解析，解析的是lxml.etree._Element"
   ]
  },
  {
   "cell_type": "code",
   "execution_count": 8,
   "metadata": {},
   "outputs": [
    {
     "ename": "AttributeError",
     "evalue": "'str' object has no attribute 'xtpath'",
     "output_type": "error",
     "traceback": [
      "\u001b[1;31m---------------------------------------------------------------------------\u001b[0m",
      "\u001b[1;31mAttributeError\u001b[0m                            Traceback (most recent call last)",
      "\u001b[1;32m<ipython-input-8-55f2b05fe1c1>\u001b[0m in \u001b[0;36m<module>\u001b[1;34m\u001b[0m\n\u001b[0;32m      1\u001b[0m \u001b[0mres1\u001b[0m \u001b[1;33m=\u001b[0m \u001b[0mr\u001b[0m\u001b[1;33m.\u001b[0m\u001b[0mtext\u001b[0m\u001b[1;33m\u001b[0m\u001b[1;33m\u001b[0m\u001b[0m\n\u001b[1;32m----> 2\u001b[1;33m \u001b[0mres1\u001b[0m\u001b[1;33m.\u001b[0m\u001b[0mxtpath\u001b[0m\u001b[1;33m(\u001b[0m\u001b[1;34m'//artical[@class=\"excerpt\"]'\u001b[0m\u001b[1;33m)\u001b[0m \u001b[1;31m# 字符串格式会报错\u001b[0m\u001b[1;33m\u001b[0m\u001b[1;33m\u001b[0m\u001b[0m\n\u001b[0m",
      "\u001b[1;31mAttributeError\u001b[0m: 'str' object has no attribute 'xtpath'"
     ]
    }
   ],
   "source": [
    "res1 = r.text\n",
    "res1.xtpath('//artical[@class=\"excerpt\"]') # 字符串格式会报错"
   ]
  },
  {
   "cell_type": "code",
   "execution_count": 10,
   "metadata": {},
   "outputs": [
    {
     "data": {
      "text/plain": [
       "[]"
      ]
     },
     "execution_count": 10,
     "metadata": {},
     "output_type": "execute_result"
    }
   ],
   "source": [
    "html.xpath('//artical[@class=\"excerpt\"]') # lxml.etree._Element 不会报错"
   ]
  },
  {
   "cell_type": "code",
   "execution_count": 13,
   "metadata": {},
   "outputs": [
    {
     "name": "stdout",
     "output_type": "stream",
     "text": [
      "<class 'bytes'>\n",
      "<class 'str'>\n"
     ]
    }
   ],
   "source": [
    "res = etree.tostring(html)\n",
    "print(type(res))\n",
    "res1 = res.decode('utf-8')\n",
    "print(type(res1))"
   ]
  },
  {
   "cell_type": "code",
   "execution_count": 14,
   "metadata": {},
   "outputs": [
    {
     "ename": "AttributeError",
     "evalue": "'bytes' object has no attribute 'xpath'",
     "output_type": "error",
     "traceback": [
      "\u001b[1;31m---------------------------------------------------------------------------\u001b[0m",
      "\u001b[1;31mAttributeError\u001b[0m                            Traceback (most recent call last)",
      "\u001b[1;32m<ipython-input-14-c06c56320955>\u001b[0m in \u001b[0;36m<module>\u001b[1;34m\u001b[0m\n\u001b[1;32m----> 1\u001b[1;33m \u001b[0mres\u001b[0m\u001b[1;33m.\u001b[0m\u001b[0mxpath\u001b[0m\u001b[1;33m(\u001b[0m\u001b[1;34m'//artical[@class=\"excerpt\"]'\u001b[0m\u001b[1;33m)\u001b[0m\u001b[1;33m\u001b[0m\u001b[1;33m\u001b[0m\u001b[0m\n\u001b[0m",
      "\u001b[1;31mAttributeError\u001b[0m: 'bytes' object has no attribute 'xpath'"
     ]
    }
   ],
   "source": [
    "res.xpath('//artical[@class=\"excerpt\"]') #同样的,bytes对象无法xpath解析"
   ]
  },
  {
   "cell_type": "markdown",
   "metadata": {},
   "source": [
    "#### 小结: 在利用xpath解析数据的时候，遇到attributeError，注意查看自己的数据类型"
   ]
  },
  {
   "cell_type": "markdown",
   "metadata": {},
   "source": [
    "#### 主标题1，解析，发现存在em，可以采取列表循环式进行去除"
   ]
  },
  {
   "cell_type": "code",
   "execution_count": 15,
   "metadata": {},
   "outputs": [
    {
     "data": {
      "text/plain": [
       "['每日热点 - 星网大数据',\n",
       " '星网大数据 - 汇聚全网词库',\n",
       " '微友助手-微信群管家',\n",
       " '爱微帮-每日热点',\n",
       " '词库网 - 热门<em>关键词</em>库、长尾<em>关键词</em>库、网站<em>关键词</em>库、行业<em>关键词</em>库',\n",
       " '查排名-天猫 直通车 淘宝 宝贝<em>关键词</em>排名查询 卖家店铺优化工具箱',\n",
       " '必应每日高清壁纸 - 精彩，从这里开始',\n",
       " '拓词',\n",
       " 'UC热点',\n",
       " '微热点',\n",
       " '抽屉新热榜-聚合每日热门、搞笑、有趣资讯',\n",
       " '百度搜索风云榜']"
      ]
     },
     "execution_count": 15,
     "metadata": {},
     "output_type": "execute_result"
    }
   ],
   "source": [
    "lists = html.xpath('//article[@class=\"excerpt\"]/header/h2/a//@title')\n",
    "lists"
   ]
  },
  {
   "cell_type": "markdown",
   "metadata": {},
   "source": [
    "#### 最终获取主标题"
   ]
  },
  {
   "cell_type": "code",
   "execution_count": 16,
   "metadata": {},
   "outputs": [
    {
     "data": {
      "text/plain": [
       "['每日热点 - 星网大数据',\n",
       " '星网大数据 - 汇聚全网词库',\n",
       " '微友助手-微信群管家',\n",
       " '爱微帮-每日热点',\n",
       " '词库网 - 热门关键词库、长尾关键词库、网站关键词库、行业关键词库',\n",
       " '查排名-天猫 直通车 淘宝 宝贝关键词排名查询 卖家店铺优化工具箱',\n",
       " '必应每日高清壁纸 - 精彩，从这里开始',\n",
       " '拓词',\n",
       " 'UC热点',\n",
       " '微热点',\n",
       " '抽屉新热榜-聚合每日热门、搞笑、有趣资讯',\n",
       " '百度搜索风云榜']"
      ]
     },
     "execution_count": 16,
     "metadata": {},
     "output_type": "execute_result"
    }
   ],
   "source": [
    "title1 = [ each.replace('<em>','').replace('</em>','') for each in lists ]\n",
    "title1"
   ]
  },
  {
   "cell_type": "code",
   "execution_count": 33,
   "metadata": {},
   "outputs": [
    {
     "data": {
      "text/plain": [
       "['星网大数据提供',\n",
       " '每日',\n",
       " '热点',\n",
       " '关键词',\n",
       " '，收集百度热搜、新浪热搜、搜狗热搜等榜单数据',\n",
       " '星网大数据汇聚全网数据，提供',\n",
       " '关键',\n",
       " '词库、每日热点、企业信用、',\n",
       " '关键词',\n",
       " '分析等。',\n",
       " '二、好友自动入群当好友发送入群',\n",
       " '关键词',\n",
       " '时，自动邀请其进入指定群。三、私聊自动回复当指定好友在跟机器人私聊过程中发送的消息包含',\n",
       " '关键词',\n",
       " '时，机器人微信号将自动回复消息。',\n",
       " '为新媒体运营者提供便捷的运营工具，丰富的选题素材，智能的互动应用；让新媒体运营更轻松，更具特色；同时与运营者们一起探索新',\n",
       " '词库网专业提供各类',\n",
       " '关键词',\n",
       " '查询服务，包括搜索引擎热门',\n",
       " '关键',\n",
       " '词库、网站',\n",
       " '关键',\n",
       " '词库、各类长尾',\n",
       " '关键',\n",
       " '词库以及行业',\n",
       " '关键',\n",
       " '词库，能对目标',\n",
       " '关键',\n",
       " '词库进行查询、预测和数据导出。',\n",
       " '查排名(chapaiming.com)-天猫 直通车 淘宝等店铺排名、宝贝',\n",
       " '关键词',\n",
       " '排名在线查询,打造专业的卖家店铺优化工具箱,800万电商人都在用的排名查询网站。',\n",
       " 'BingBest是一款精美小巧的必应壁纸下载软件，为你呈现每日必应最美的壁纸。支持自动更新桌面壁纸，锁屏背景，还可以浏览',\n",
       " '5118通过对SEO各类大数据挖掘,提供',\n",
       " '关键词',\n",
       " '挖掘,行业词库,站群权重监控,',\n",
       " '关键词',\n",
       " '排名监控等SEO工作人员必备工具',\n",
       " 'UC浏览器实时热点',\n",
       " '新浪微博旗下的大数据分析平台，新浪唯一全数据授权的全网分析工具。',\n",
       " '抽屉新热榜，汇聚每日搞笑段子、热门图片、有趣新闻。它将微博、门户、社区、bbs、社交网站等海量内容聚合在一起，通过用户推',\n",
       " '百度搜索风云榜以数亿网民的搜索行为作为数据基础，建立权威的',\n",
       " '关键词',\n",
       " '排行榜与分类热点门户。实时更新网络热点，为您一站式解读最新最热的人事物信息，引领热词阅读时代！']"
      ]
     },
     "execution_count": 33,
     "metadata": {},
     "output_type": "execute_result"
    }
   ],
   "source": [
    "title2 = html.xpath('//p[@class=\"note\"]//text()')\n",
    "title2"
   ]
  },
  {
   "cell_type": "markdown",
   "metadata": {},
   "source": [
    "#### 标题2的解析，通过取出属性为note的p标签，再循环获取内部的文本，发现存在问题"
   ]
  },
  {
   "cell_type": "code",
   "execution_count": 17,
   "metadata": {},
   "outputs": [
    {
     "data": {
      "text/plain": [
       "['星网大数据提供',\n",
       " '每日',\n",
       " '热点',\n",
       " '关键词',\n",
       " '，收集百度热搜、新浪热搜、搜狗热搜等榜单数据',\n",
       " '星网大数据汇聚全网数据，提供',\n",
       " '关键',\n",
       " '词库、每日热点、企业信用、',\n",
       " '关键词',\n",
       " '分析等。',\n",
       " '二、好友自动入群当好友发送入群',\n",
       " '关键词',\n",
       " '时，自动邀请其进入指定群。三、私聊自动回复当指定好友在跟机器人私聊过程中发送的消息包含',\n",
       " '关键词',\n",
       " '时，机器人微信号将自动回复消息。',\n",
       " '为新媒体运营者提供便捷的运营工具，丰富的选题素材，智能的互动应用；让新媒体运营更轻松，更具特色；同时与运营者们一起探索新',\n",
       " '词库网专业提供各类',\n",
       " '关键词',\n",
       " '查询服务，包括搜索引擎热门',\n",
       " '关键',\n",
       " '词库、网站',\n",
       " '关键',\n",
       " '词库、各类长尾',\n",
       " '关键',\n",
       " '词库以及行业',\n",
       " '关键',\n",
       " '词库，能对目标',\n",
       " '关键',\n",
       " '词库进行查询、预测和数据导出。',\n",
       " '查排名(chapaiming.com)-天猫 直通车 淘宝等店铺排名、宝贝',\n",
       " '关键词',\n",
       " '排名在线查询,打造专业的卖家店铺优化工具箱,800万电商人都在用的排名查询网站。',\n",
       " 'BingBest是一款精美小巧的必应壁纸下载软件，为你呈现每日必应最美的壁纸。支持自动更新桌面壁纸，锁屏背景，还可以浏览',\n",
       " '5118通过对SEO各类大数据挖掘,提供',\n",
       " '关键词',\n",
       " '挖掘,行业词库,站群权重监控,',\n",
       " '关键词',\n",
       " '排名监控等SEO工作人员必备工具',\n",
       " 'UC浏览器实时热点',\n",
       " '新浪微博旗下的大数据分析平台，新浪唯一全数据授权的全网分析工具。',\n",
       " '抽屉新热榜，汇聚每日搞笑段子、热门图片、有趣新闻。它将微博、门户、社区、bbs、社交网站等海量内容聚合在一起，通过用户推',\n",
       " '百度搜索风云榜以数亿网民的搜索行为作为数据基础，建立权威的',\n",
       " '关键词',\n",
       " '排行榜与分类热点门户。实时更新网络热点，为您一站式解读最新最热的人事物信息，引领热词阅读时代！']"
      ]
     },
     "execution_count": 17,
     "metadata": {},
     "output_type": "execute_result"
    }
   ],
   "source": [
    "# em拼接在第二个\n",
    "title2 = html.xpath('//p[@class=\"note\"]//text()')\n",
    "title2 # 由于em的作用,本该串联在一起的字符串被分割了"
   ]
  },
  {
   "cell_type": "code",
   "execution_count": 51,
   "metadata": {},
   "outputs": [
    {
     "data": {
      "text/plain": [
       "[<Element p at 0x24290b80ec0>,\n",
       " <Element p at 0x24290b91200>,\n",
       " <Element p at 0x24290b66f00>,\n",
       " <Element p at 0x24290b66200>,\n",
       " <Element p at 0x24290b72f40>,\n",
       " <Element p at 0x24290b72e40>,\n",
       " <Element p at 0x2428faac8c0>,\n",
       " <Element p at 0x2428faacb00>,\n",
       " <Element p at 0x2428faac840>,\n",
       " <Element p at 0x2428eb965c0>,\n",
       " <Element p at 0x2428eb96500>,\n",
       " <Element p at 0x2428faa1b40>]"
      ]
     },
     "execution_count": 51,
     "metadata": {},
     "output_type": "execute_result"
    }
   ],
   "source": [
    "html.xpath('//*[@id=\"hot\"]/div/div/article/p')"
   ]
  },
  {
   "cell_type": "code",
   "execution_count": 43,
   "metadata": {},
   "outputs": [
    {
     "data": {
      "text/plain": [
       "['星网大数据提供', '每日', '热点', '关键词', '，收集百度热搜、新浪热搜、搜狗热搜等榜单数据']"
      ]
     },
     "execution_count": 43,
     "metadata": {},
     "output_type": "execute_result"
    }
   ],
   "source": [
    "html.xpath('//*[@id=\"hot\"]/div/div/article[1]/p//text()')"
   ]
  },
  {
   "cell_type": "code",
   "execution_count": 44,
   "metadata": {},
   "outputs": [
    {
     "data": {
      "text/plain": [
       "[]"
      ]
     },
     "execution_count": 44,
     "metadata": {},
     "output_type": "execute_result"
    }
   ],
   "source": [
    "i = 1 # 无法通过循环解析，不可复制\n",
    "html.xpath('//*[@id=\"hot\"]/div/div/article[i]/p//text()')"
   ]
  },
  {
   "cell_type": "code",
   "execution_count": 48,
   "metadata": {},
   "outputs": [
    {
     "data": {
      "text/plain": [
       "[<Element article at 0x2428fa4af80>,\n",
       " <Element article at 0x24290b88a40>,\n",
       " <Element article at 0x24290b88dc0>,\n",
       " <Element article at 0x24290b88ec0>,\n",
       " <Element article at 0x2428fab4700>,\n",
       " <Element article at 0x24290b72d80>,\n",
       " <Element article at 0x24290b72c40>,\n",
       " <Element article at 0x24290b724c0>,\n",
       " <Element article at 0x24290b729c0>,\n",
       " <Element article at 0x24290b72080>,\n",
       " <Element article at 0x24290b72240>,\n",
       " <Element article at 0x2428fac7480>]"
      ]
     },
     "execution_count": 48,
     "metadata": {},
     "output_type": "execute_result"
    }
   ],
   "source": [
    "title2 = html.xpath('//*[@id=\"hot\"]/div/div/article')\n",
    "title2"
   ]
  },
  {
   "cell_type": "code",
   "execution_count": 49,
   "metadata": {},
   "outputs": [
    {
     "data": {
      "text/plain": [
       "[[], [], [], [], [], [], [], [], [], [], [], []]"
      ]
     },
     "execution_count": 49,
     "metadata": {},
     "output_type": "execute_result"
    }
   ],
   "source": [
    "title2 = html.xpath('//*[@id=\"hot\"]/div/div/article')\n",
    "[each.xpath('/p//text()') for each in title2]"
   ]
  },
  {
   "cell_type": "code",
   "execution_count": 56,
   "metadata": {},
   "outputs": [
    {
     "data": {
      "text/plain": [
       "['星网大数据提供',\n",
       " '每日',\n",
       " '热点',\n",
       " '关键词',\n",
       " '，收集百度热搜、新浪热搜、搜狗热搜等榜单数据',\n",
       " '星网大数据汇聚全网数据，提供',\n",
       " '关键',\n",
       " '词库、每日热点、企业信用、',\n",
       " '关键词',\n",
       " '分析等。',\n",
       " '二、好友自动入群当好友发送入群',\n",
       " '关键词',\n",
       " '时，自动邀请其进入指定群。三、私聊自动回复当指定好友在跟机器人私聊过程中发送的消息包含',\n",
       " '关键词',\n",
       " '时，机器人微信号将自动回复消息。',\n",
       " '为新媒体运营者提供便捷的运营工具，丰富的选题素材，智能的互动应用；让新媒体运营更轻松，更具特色；同时与运营者们一起探索新',\n",
       " '词库网专业提供各类',\n",
       " '关键词',\n",
       " '查询服务，包括搜索引擎热门',\n",
       " '关键',\n",
       " '词库、网站',\n",
       " '关键',\n",
       " '词库、各类长尾',\n",
       " '关键',\n",
       " '词库以及行业',\n",
       " '关键',\n",
       " '词库，能对目标',\n",
       " '关键',\n",
       " '词库进行查询、预测和数据导出。',\n",
       " '查排名(chapaiming.com)-天猫 直通车 淘宝等店铺排名、宝贝',\n",
       " '关键词',\n",
       " '排名在线查询,打造专业的卖家店铺优化工具箱,800万电商人都在用的排名查询网站。',\n",
       " 'BingBest是一款精美小巧的必应壁纸下载软件，为你呈现每日必应最美的壁纸。支持自动更新桌面壁纸，锁屏背景，还可以浏览',\n",
       " '5118通过对SEO各类大数据挖掘,提供',\n",
       " '关键词',\n",
       " '挖掘,行业词库,站群权重监控,',\n",
       " '关键词',\n",
       " '排名监控等SEO工作人员必备工具',\n",
       " 'UC浏览器实时热点',\n",
       " '新浪微博旗下的大数据分析平台，新浪唯一全数据授权的全网分析工具。',\n",
       " '抽屉新热榜，汇聚每日搞笑段子、热门图片、有趣新闻。它将微博、门户、社区、bbs、社交网站等海量内容聚合在一起，通过用户推',\n",
       " '百度搜索风云榜以数亿网民的搜索行为作为数据基础，建立权威的',\n",
       " '关键词',\n",
       " '排行榜与分类热点门户。实时更新网络热点，为您一站式解读最新最热的人事物信息，引领热词阅读时代！']"
      ]
     },
     "execution_count": 56,
     "metadata": {},
     "output_type": "execute_result"
    }
   ],
   "source": [
    "html.xpath('//p[@class=\"note\"]//text()')"
   ]
  },
  {
   "cell_type": "code",
   "execution_count": 60,
   "metadata": {},
   "outputs": [
    {
     "data": {
      "text/plain": [
       "['每日',\n",
       " '热点',\n",
       " '关键词',\n",
       " '关键',\n",
       " '关键词',\n",
       " '关键词',\n",
       " '关键词',\n",
       " '关键词',\n",
       " '关键',\n",
       " '关键',\n",
       " '关键',\n",
       " '关键',\n",
       " '关键',\n",
       " '关键词',\n",
       " '关键词',\n",
       " '关键词',\n",
       " '关键词']"
      ]
     },
     "execution_count": 60,
     "metadata": {},
     "output_type": "execute_result"
    }
   ],
   "source": [
    "html.xpath('//p[@class=\"note\"]//descendant-or-self::em//text()')"
   ]
  },
  {
   "cell_type": "code",
   "execution_count": 64,
   "metadata": {},
   "outputs": [
    {
     "data": {
      "text/plain": [
       "['星网大数据提供', '每日', '热点', '关键词', '，收集百度热搜、新浪热搜、搜狗热搜等榜单数据']"
      ]
     },
     "execution_count": 64,
     "metadata": {},
     "output_type": "execute_result"
    }
   ],
   "source": [
    "html.xpath('//*[@id=\"hot\"]/div/div/article[1]/p//text()')"
   ]
  },
  {
   "cell_type": "code",
   "execution_count": 66,
   "metadata": {},
   "outputs": [
    {
     "data": {
      "text/plain": [
       "'星网大数据汇聚全网数据，提供关键词库、每日热点、企业信用、关键词分析等。'"
      ]
     },
     "execution_count": 66,
     "metadata": {},
     "output_type": "execute_result"
    }
   ],
   "source": [
    "''.join(html.xpath('//*[@id=\"hot\"]/div/div/article[2]/p//text()'))"
   ]
  },
  {
   "cell_type": "markdown",
   "metadata": {},
   "source": [
    "#### 标题2 最终解决方式：首先提取P标签，再把P标签的后代及其自身的文本提取出来"
   ]
  },
  {
   "cell_type": "code",
   "execution_count": 18,
   "metadata": {},
   "outputs": [
    {
     "data": {
      "text/plain": [
       "[<Element p at 0x17efb322100>,\n",
       " <Element p at 0x17efcf59800>,\n",
       " <Element p at 0x17efcea63c0>,\n",
       " <Element p at 0x17efcf59440>,\n",
       " <Element p at 0x17efcf66100>,\n",
       " <Element p at 0x17efcf66400>,\n",
       " <Element p at 0x17efcf66480>,\n",
       " <Element p at 0x17efcf664c0>,\n",
       " <Element p at 0x17efcf66580>,\n",
       " <Element p at 0x17efcf665c0>,\n",
       " <Element p at 0x17efcf66600>,\n",
       " <Element p at 0x17efcf66640>]"
      ]
     },
     "execution_count": 18,
     "metadata": {},
     "output_type": "execute_result"
    }
   ],
   "source": [
    "html.xpath('//p[@class=\"note\"]') # 把每个P标签取出来，列表循环后，提取P标签自身及其后代的文字"
   ]
  },
  {
   "cell_type": "markdown",
   "metadata": {},
   "source": [
    "#### 以第一个元素为例，我们提取结果如下"
   ]
  },
  {
   "cell_type": "code",
   "execution_count": 19,
   "metadata": {},
   "outputs": [
    {
     "data": {
      "text/plain": [
       "['星网大数据提供', '每日', '热点', '关键词', '，收集百度热搜、新浪热搜、搜狗热搜等榜单数据']"
      ]
     },
     "execution_count": 19,
     "metadata": {},
     "output_type": "execute_result"
    }
   ],
   "source": [
    "html.xpath('//p[@class=\"note\"]')[0].xpath('descendant-or-self::p//text()')"
   ]
  },
  {
   "cell_type": "code",
   "execution_count": 20,
   "metadata": {},
   "outputs": [
    {
     "name": "stdout",
     "output_type": "stream",
     "text": [
      "['星网大数据提供', '每日', '热点', '关键词', '，收集百度热搜、新浪热搜、搜狗热搜等榜单数据']\n",
      "['星网大数据汇聚全网数据，提供', '关键', '词库、每日热点、企业信用、', '关键词', '分析等。']\n",
      "['二、好友自动入群当好友发送入群', '关键词', '时，自动邀请其进入指定群。三、私聊自动回复当指定好友在跟机器人私聊过程中发送的消息包含', '关键词', '时，机器人微信号将自动回复消息。']\n",
      "['为新媒体运营者提供便捷的运营工具，丰富的选题素材，智能的互动应用；让新媒体运营更轻松，更具特色；同时与运营者们一起探索新']\n",
      "['词库网专业提供各类', '关键词', '查询服务，包括搜索引擎热门', '关键', '词库、网站', '关键', '词库、各类长尾', '关键', '词库以及行业', '关键', '词库，能对目标', '关键', '词库进行查询、预测和数据导出。']\n",
      "['查排名(chapaiming.com)-天猫 直通车 淘宝等店铺排名、宝贝', '关键词', '排名在线查询,打造专业的卖家店铺优化工具箱,800万电商人都在用的排名查询网站。']\n",
      "['BingBest是一款精美小巧的必应壁纸下载软件，为你呈现每日必应最美的壁纸。支持自动更新桌面壁纸，锁屏背景，还可以浏览']\n",
      "['5118通过对SEO各类大数据挖掘,提供', '关键词', '挖掘,行业词库,站群权重监控,', '关键词', '排名监控等SEO工作人员必备工具']\n",
      "['UC浏览器实时热点']\n",
      "['新浪微博旗下的大数据分析平台，新浪唯一全数据授权的全网分析工具。']\n",
      "['抽屉新热榜，汇聚每日搞笑段子、热门图片、有趣新闻。它将微博、门户、社区、bbs、社交网站等海量内容聚合在一起，通过用户推']\n",
      "['百度搜索风云榜以数亿网民的搜索行为作为数据基础，建立权威的', '关键词', '排行榜与分类热点门户。实时更新网络热点，为您一站式解读最新最热的人事物信息，引领热词阅读时代！']\n"
     ]
    }
   ],
   "source": [
    "for i in html.xpath('//p[@class=\"note\"]'):\n",
    "    print(i.xpath('descendant-or-self::p//text()'))"
   ]
  },
  {
   "cell_type": "markdown",
   "metadata": {},
   "source": [
    "#### 配合join方法，可以把每个标题拼接出来"
   ]
  },
  {
   "cell_type": "markdown",
   "metadata": {},
   "source": [
    "#### 采取列表推导式实现,对比后和页面呈现结果一致"
   ]
  },
  {
   "cell_type": "code",
   "execution_count": 21,
   "metadata": {},
   "outputs": [
    {
     "data": {
      "text/plain": [
       "['星网大数据提供每日热点关键词，收集百度热搜、新浪热搜、搜狗热搜等榜单数据',\n",
       " '星网大数据汇聚全网数据，提供关键词库、每日热点、企业信用、关键词分析等。',\n",
       " '二、好友自动入群当好友发送入群关键词时，自动邀请其进入指定群。三、私聊自动回复当指定好友在跟机器人私聊过程中发送的消息包含关键词时，机器人微信号将自动回复消息。',\n",
       " '为新媒体运营者提供便捷的运营工具，丰富的选题素材，智能的互动应用；让新媒体运营更轻松，更具特色；同时与运营者们一起探索新',\n",
       " '词库网专业提供各类关键词查询服务，包括搜索引擎热门关键词库、网站关键词库、各类长尾关键词库以及行业关键词库，能对目标关键词库进行查询、预测和数据导出。',\n",
       " '查排名(chapaiming.com)-天猫 直通车 淘宝等店铺排名、宝贝关键词排名在线查询,打造专业的卖家店铺优化工具箱,800万电商人都在用的排名查询网站。',\n",
       " 'BingBest是一款精美小巧的必应壁纸下载软件，为你呈现每日必应最美的壁纸。支持自动更新桌面壁纸，锁屏背景，还可以浏览',\n",
       " '5118通过对SEO各类大数据挖掘,提供关键词挖掘,行业词库,站群权重监控,关键词排名监控等SEO工作人员必备工具',\n",
       " 'UC浏览器实时热点',\n",
       " '新浪微博旗下的大数据分析平台，新浪唯一全数据授权的全网分析工具。',\n",
       " '抽屉新热榜，汇聚每日搞笑段子、热门图片、有趣新闻。它将微博、门户、社区、bbs、社交网站等海量内容聚合在一起，通过用户推',\n",
       " '百度搜索风云榜以数亿网民的搜索行为作为数据基础，建立权威的关键词排行榜与分类热点门户。实时更新网络热点，为您一站式解读最新最热的人事物信息，引领热词阅读时代！']"
      ]
     },
     "execution_count": 21,
     "metadata": {},
     "output_type": "execute_result"
    }
   ],
   "source": [
    "[ ''.join(i.xpath('descendant-or-self::p//text()')) for i in html.xpath('//p[@class=\"note\"]') ]  "
   ]
  },
  {
   "cell_type": "code",
   "execution_count": null,
   "metadata": {},
   "outputs": [],
   "source": []
  }
 ],
 "metadata": {
  "interpreter": {
   "hash": "69590d412a89501972087f057c26f15127fe02f80f3df133a550df78d6e909e3"
  },
  "kernelspec": {
   "display_name": "Python 3.8.5 64-bit ('base': conda)",
   "language": "python",
   "name": "python3"
  },
  "language_info": {
   "codemirror_mode": {
    "name": "ipython",
    "version": 3
   },
   "file_extension": ".py",
   "mimetype": "text/x-python",
   "name": "python",
   "nbconvert_exporter": "python",
   "pygments_lexer": "ipython3",
   "version": "3.8.5"
  },
  "orig_nbformat": 4
 },
 "nbformat": 4,
 "nbformat_minor": 2
}
